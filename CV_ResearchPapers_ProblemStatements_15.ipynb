{
 "cells": [
  {
   "cell_type": "markdown",
   "id": "c594fde8",
   "metadata": {},
   "source": [
    "### 1.\n",
    "\n",
    "Paper: \"ImageNet Classification with Deep Convolutional Neural Networks\" by Alex Krizhevsky, Ilya Sutskever, and Geoffrey Hinton.\n",
    "\n",
    "Problem Statement: Develop a deep learning architecture for accurate image classification on the ImageNet dataset.\n"
   ]
  },
  {
   "cell_type": "markdown",
   "id": "34c8c12c",
   "metadata": {},
   "source": [
    "### 2.\n",
    "\n",
    "Paper: \"Very Deep Convolutional Networks for Large-Scale Image Recognition\" by Karen Simonyan and Andrew Zisserman.\n",
    "    \n",
    "Problem Statement: Explore the benefits of deeper convolutional neural networks for image recognition tasks."
   ]
  },
  {
   "cell_type": "markdown",
   "id": "bb897317",
   "metadata": {},
   "source": [
    "### 3.\n",
    "\n",
    "Paper: \"Faster R-CNN: Towards Real-Time Object Detection with Region Proposal Networks\" by Shaoqing Ren, Kaiming He, Ross Girshick, and Jian Sun.\n",
    "\n",
    "Problem Statement: Propose a faster and more accurate method for object detection in images using region proposal networks."
   ]
  },
  {
   "cell_type": "markdown",
   "id": "a489bde2",
   "metadata": {},
   "source": [
    "### 4.\n",
    "\n",
    "Paper: \"YOLO: You Only Look Once: Unified, Real-Time Object Detection\" by Joseph Redmon, Santosh Divvala, Ross Girshick, and Ali Farhadi.\n",
    "\n",
    "Problem Statement: Design an efficient real-time object detection system that can detect objects in images in one pass."
   ]
  },
  {
   "cell_type": "markdown",
   "id": "4112f6ba",
   "metadata": {},
   "source": [
    "### 5.\n",
    "\n",
    "Paper: \"Spatial Pyramid Pooling in Deep Convolutional Networks for Visual Recognition\" by Kaiming He, Xiangyu Zhang, Shaoqing Ren, and Jian Sun.\n",
    "    \n",
    "Problem Statement: Introduce spatial pyramid pooling as a technique to handle images of varying sizes for visual recognition tasks."
   ]
  },
  {
   "cell_type": "markdown",
   "id": "93d4673d",
   "metadata": {},
   "source": [
    "### 6.\n",
    "\n",
    "Paper: \"Generative Adversarial Nets\" by Ian Goodfellow, Jean Pouget-Abadie, Mehdi Mirza, Bing Xu, David Warde-Farley, et al.\n",
    "    \n",
    "Problem Statement: Propose a new approach to training generative models using adversarial networks to generate realistic samples."
   ]
  },
  {
   "cell_type": "markdown",
   "id": "f442ed3a",
   "metadata": {},
   "source": [
    "### 7.\n",
    "\n",
    "Paper: \"Mask R-CNN\" by Kaiming He, Georgia Gkioxari, Piotr Dollár, and Ross Girshick.\n",
    "    \n",
    "Problem Statement: Extend Faster R-CNN to simultaneously perform object detection and instance segmentation."
   ]
  },
  {
   "cell_type": "markdown",
   "id": "6d6b3875",
   "metadata": {},
   "source": [
    "### 8.\n",
    "\n",
    "Paper: \"Image Style Transfer Using Convolutional Neural Networks\" by Leon A. Gatys, Alexander S. Ecker, and Matthias Bethge.\n",
    "\n",
    "Problem Statement: Develop a method to transfer artistic styles from one image to another while preserving content."
   ]
  },
  {
   "cell_type": "markdown",
   "id": "bc5097cd",
   "metadata": {},
   "source": [
    "### 9.\n",
    "\n",
    "Paper: \"Deep Residual Learning for Image Recognition\" by Kaiming He, Xiangyu Zhang, Shaoqing Ren, and Jian Sun.\n",
    "\n",
    "Problem Statement: Address the challenge of training very deep neural networks by introducing residual learning blocks."
   ]
  },
  {
   "cell_type": "markdown",
   "id": "2f2325f1",
   "metadata": {},
   "source": [
    "### 10.\n",
    "\n",
    "Paper: \"Unsupervised Learning of Visual Representations by Solving Jigsaw Puzzles\" by Carl Doersch, Abhinav Gupta, and Alexei A. Efros.\n",
    "    \n",
    "Problem Statement: Propose a self-supervised learning approach where a model learns visual representations by solving jigsaw puzzles."
   ]
  },
  {
   "cell_type": "markdown",
   "id": "d6bbb38d",
   "metadata": {},
   "source": [
    "### 11.\n",
    "\n",
    "Paper: \"Learning to Predict Depth on the Road\" by David Eigen, Christian Puhrsch, and Rob Fergus.\n",
    "\n",
    "Problem Statement: Tackle the problem of monocular depth estimation from a single image to aid autonomous driving systems."
   ]
  },
  {
   "cell_type": "markdown",
   "id": "08024168",
   "metadata": {},
   "source": [
    "### 12.\n",
    "\n",
    "Paper: \"CycleGAN: Unpaired Image-to-Image Translation using Cycle-Consistent Adversarial Networks\" by Jun-Yan Zhu, Taesung Park, Phillip Isola, and Alexei A. Efros.\n",
    "    \n",
    "Problem Statement: Introduce a method for unpaired image-to-image translation using cycle-consistent adversarial networks."
   ]
  },
  {
   "cell_type": "markdown",
   "id": "da9c5f1c",
   "metadata": {},
   "source": [
    "### 13.\n",
    "\n",
    "Paper: \"DeepFace: Closing the Gap to Human-Level Performance in Face Verification\" by Yaniv Taigman, Ming Yang, Marc'Aurelio Ranzato, and Lior Wolf.\n",
    "\n",
    "Problem Statement: Develop a deep learning model for face verification that approaches human-level performance."
   ]
  },
  {
   "cell_type": "markdown",
   "id": "44cd5f54",
   "metadata": {},
   "source": [
    "### 14.\n",
    "\n",
    "Paper: \"Learning Dense Correspondence via 3D-guided Cycle Consistency\" by Shubham Tulsiani, Tinghui Zhou, Alexei A. Efros, and Jitendra Malik.\n",
    "\n",
    "Problem Statement: Propose a method for establishing dense correspondences between images using 3D geometric cues."
   ]
  },
  {
   "cell_type": "markdown",
   "id": "9be7078a",
   "metadata": {},
   "source": [
    "### 15.\n",
    "\n",
    "Paper: \"The One Hundred Layers Tiramisu: Fully Convolutional DenseNets for Semantic Segmentation\" by Simon Jegou, Michal Drozdzal, David Vazquez, Adriana Romero, and Yoshua Bengio.\n",
    "\n",
    "Problem Statement: Introduce a fully convolutional DenseNet architecture for accurate and efficient semantic segmentation of images."
   ]
  },
  {
   "cell_type": "code",
   "execution_count": null,
   "id": "c0d18fff",
   "metadata": {},
   "outputs": [],
   "source": []
  }
 ],
 "metadata": {
  "kernelspec": {
   "display_name": "Python 3 (ipykernel)",
   "language": "python",
   "name": "python3"
  },
  "language_info": {
   "codemirror_mode": {
    "name": "ipython",
    "version": 3
   },
   "file_extension": ".py",
   "mimetype": "text/x-python",
   "name": "python",
   "nbconvert_exporter": "python",
   "pygments_lexer": "ipython3",
   "version": "3.9.7"
  }
 },
 "nbformat": 4,
 "nbformat_minor": 5
}
